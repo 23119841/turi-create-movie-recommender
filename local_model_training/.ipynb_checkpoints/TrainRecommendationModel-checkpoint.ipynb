{
 "cells": [
  {
   "cell_type": "markdown",
   "metadata": {},
   "source": [
    "# Training an \"Item Similary Recommender\" model on the MovieLens 26M dataset with Turi Create\n",
    "\n",
    "In this notebook, you're going to use Turi Create to train a movie recommendation in ~1 minute runtime (MacBook Pro w/ TB).\n",
    "\n",
    "Start off by importing `turicreate` (as `tc` for convenience)"
   ]
  },
  {
   "cell_type": "code",
   "execution_count": 9,
   "metadata": {},
   "outputs": [],
   "source": [
    "import turicreate as tc"
   ]
  },
  {
   "cell_type": "markdown",
   "metadata": {},
   "source": [
    "Then, read the \"ratings.csv\" file from the \"ml-latest\" directory. This file contains 3 columns:\n",
    "\n",
    "- userId: The unique identifier of the user that watched and rated a certain movie.\n",
    "- movieId: The unique identifier of the movie that the user watched.\n",
    "- rating: A rating on a scale of 0.5 to 5.\n",
    "- timestamp: When the user rated and watched the movie."
   ]
  },
  {
   "cell_type": "code",
   "execution_count": 10,
   "metadata": {},
   "outputs": [
    {
     "data": {
      "text/html": [
       "<pre>Finished parsing file /Users/tanmaybakshi/turi-create-movie-recommender/local_model_training/ml-latest/ratings.csv</pre>"
      ],
      "text/plain": [
       "Finished parsing file /Users/tanmaybakshi/turi-create-movie-recommender/local_model_training/ml-latest/ratings.csv"
      ]
     },
     "metadata": {},
     "output_type": "display_data"
    },
    {
     "data": {
      "text/html": [
       "<pre>Parsing completed. Parsed 100 lines in 0.433474 secs.</pre>"
      ],
      "text/plain": [
       "Parsing completed. Parsed 100 lines in 0.433474 secs."
      ]
     },
     "metadata": {},
     "output_type": "display_data"
    },
    {
     "name": "stdout",
     "output_type": "stream",
     "text": [
      "------------------------------------------------------\n",
      "Inferred types from first 100 line(s) of file as \n",
      "column_type_hints=[int,int,float,int]\n",
      "If parsing fails due to incorrect types, you can correct\n",
      "the inferred type list above and pass it to read_csv in\n",
      "the column_type_hints argument\n",
      "------------------------------------------------------\n"
     ]
    },
    {
     "data": {
      "text/html": [
       "<pre>Read 2006281 lines. Lines per second: 2.6387e+06</pre>"
      ],
      "text/plain": [
       "Read 2006281 lines. Lines per second: 2.6387e+06"
      ]
     },
     "metadata": {},
     "output_type": "display_data"
    },
    {
     "data": {
      "text/html": [
       "<pre>Finished parsing file /Users/tanmaybakshi/turi-create-movie-recommender/local_model_training/ml-latest/ratings.csv</pre>"
      ],
      "text/plain": [
       "Finished parsing file /Users/tanmaybakshi/turi-create-movie-recommender/local_model_training/ml-latest/ratings.csv"
      ]
     },
     "metadata": {},
     "output_type": "display_data"
    },
    {
     "data": {
      "text/html": [
       "<pre>Parsing completed. Parsed 26024289 lines in 5.33866 secs.</pre>"
      ],
      "text/plain": [
       "Parsing completed. Parsed 26024289 lines in 5.33866 secs."
      ]
     },
     "metadata": {},
     "output_type": "display_data"
    }
   ],
   "source": [
    "ratings = tc.SFrame.read_csv(\"ml-latest/ratings.csv\")"
   ]
  },
  {
   "cell_type": "markdown",
   "metadata": {},
   "source": [
    "The \"timestamp\" column of this file is not needed for this code pattern. It could be used to track how a user's interests change over time, but we won't leverage this data point for now. We'll remove that column from the SFrame:"
   ]
  },
  {
   "cell_type": "code",
   "execution_count": 11,
   "metadata": {},
   "outputs": [],
   "source": [
    "del ratings[\"timestamp\"]"
   ]
  },
  {
   "cell_type": "markdown",
   "metadata": {},
   "source": [
    "We'll then print out the ratings SFrame, to get an idea of what the table looks like:"
   ]
  },
  {
   "cell_type": "code",
   "execution_count": 12,
   "metadata": {},
   "outputs": [
    {
     "name": "stdout",
     "output_type": "stream",
     "text": [
      "+--------+---------+--------+\n",
      "| userId | movieId | rating |\n",
      "+--------+---------+--------+\n",
      "|   1    |   110   |  1.0   |\n",
      "|   1    |   147   |  4.5   |\n",
      "|   1    |   858   |  5.0   |\n",
      "|   1    |   1221  |  5.0   |\n",
      "|   1    |   1246  |  5.0   |\n",
      "|   1    |   1968  |  4.0   |\n",
      "|   1    |   2762  |  4.5   |\n",
      "|   1    |   2918  |  5.0   |\n",
      "|   1    |   2959  |  4.0   |\n",
      "|   1    |   4226  |  4.0   |\n",
      "+--------+---------+--------+\n",
      "[26024289 rows x 3 columns]\n",
      "Note: Only the head of the SFrame is printed.\n",
      "You can use print_rows(num_rows=m, num_columns=n) to print more rows and columns.\n"
     ]
    }
   ],
   "source": [
    "print ratings"
   ]
  },
  {
   "cell_type": "markdown",
   "metadata": {},
   "source": [
    "Next, you'll train the model itself. There are a few different kinds of models, but we're going to use the \"item similarity recommender\" model. It's very useful for recommending items to new users when there are only a few previous occurence data points to feed into the model.\n",
    "\n",
    "We'll also have to tell the model that the \"user_id\" column, which is the identifier for the user, is called \"userId\"; the \"item_id\", which is the item that the user interacted with, is \"movieId\"; and the target, which is the score the user provided to the item, is \"rating\"."
   ]
  },
  {
   "cell_type": "code",
   "execution_count": 13,
   "metadata": {},
   "outputs": [
    {
     "data": {
      "text/html": [
       "<pre>Recsys training: model = item_similarity</pre>"
      ],
      "text/plain": [
       "Recsys training: model = item_similarity"
      ]
     },
     "metadata": {},
     "output_type": "display_data"
    },
    {
     "data": {
      "text/html": [
       "<pre>Preparing data set.</pre>"
      ],
      "text/plain": [
       "Preparing data set."
      ]
     },
     "metadata": {},
     "output_type": "display_data"
    },
    {
     "data": {
      "text/html": [
       "<pre>    Data has 26024289 observations with 270896 users and 45115 items.</pre>"
      ],
      "text/plain": [
       "    Data has 26024289 observations with 270896 users and 45115 items."
      ]
     },
     "metadata": {},
     "output_type": "display_data"
    },
    {
     "data": {
      "text/html": [
       "<pre>    Data prepared in: 9.47907s</pre>"
      ],
      "text/plain": [
       "    Data prepared in: 9.47907s"
      ]
     },
     "metadata": {},
     "output_type": "display_data"
    },
    {
     "data": {
      "text/html": [
       "<pre>Training model from provided data.</pre>"
      ],
      "text/plain": [
       "Training model from provided data."
      ]
     },
     "metadata": {},
     "output_type": "display_data"
    },
    {
     "data": {
      "text/html": [
       "<pre>Gathering per-item and per-user statistics.</pre>"
      ],
      "text/plain": [
       "Gathering per-item and per-user statistics."
      ]
     },
     "metadata": {},
     "output_type": "display_data"
    },
    {
     "data": {
      "text/html": [
       "<pre>+--------------------------------+------------+</pre>"
      ],
      "text/plain": [
       "+--------------------------------+------------+"
      ]
     },
     "metadata": {},
     "output_type": "display_data"
    },
    {
     "data": {
      "text/html": [
       "<pre>| Elapsed Time (Item Statistics) | % Complete |</pre>"
      ],
      "text/plain": [
       "| Elapsed Time (Item Statistics) | % Complete |"
      ]
     },
     "metadata": {},
     "output_type": "display_data"
    },
    {
     "data": {
      "text/html": [
       "<pre>+--------------------------------+------------+</pre>"
      ],
      "text/plain": [
       "+--------------------------------+------------+"
      ]
     },
     "metadata": {},
     "output_type": "display_data"
    },
    {
     "data": {
      "text/html": [
       "<pre>| 961us                          | 0.25       |</pre>"
      ],
      "text/plain": [
       "| 961us                          | 0.25       |"
      ]
     },
     "metadata": {},
     "output_type": "display_data"
    },
    {
     "data": {
      "text/html": [
       "<pre>| 335.34ms                       | 100        |</pre>"
      ],
      "text/plain": [
       "| 335.34ms                       | 100        |"
      ]
     },
     "metadata": {},
     "output_type": "display_data"
    },
    {
     "data": {
      "text/html": [
       "<pre>+--------------------------------+------------+</pre>"
      ],
      "text/plain": [
       "+--------------------------------+------------+"
      ]
     },
     "metadata": {},
     "output_type": "display_data"
    },
    {
     "data": {
      "text/html": [
       "<pre>Setting up lookup tables.</pre>"
      ],
      "text/plain": [
       "Setting up lookup tables."
      ]
     },
     "metadata": {},
     "output_type": "display_data"
    },
    {
     "data": {
      "text/html": [
       "<pre>Processing data in one pass using dense lookup tables.</pre>"
      ],
      "text/plain": [
       "Processing data in one pass using dense lookup tables."
      ]
     },
     "metadata": {},
     "output_type": "display_data"
    },
    {
     "data": {
      "text/html": [
       "<pre>+-------------------------------------+------------------+-----------------+</pre>"
      ],
      "text/plain": [
       "+-------------------------------------+------------------+-----------------+"
      ]
     },
     "metadata": {},
     "output_type": "display_data"
    },
    {
     "data": {
      "text/html": [
       "<pre>| Elapsed Time (Constructing Lookups) | Total % Complete | Items Processed |</pre>"
      ],
      "text/plain": [
       "| Elapsed Time (Constructing Lookups) | Total % Complete | Items Processed |"
      ]
     },
     "metadata": {},
     "output_type": "display_data"
    },
    {
     "data": {
      "text/html": [
       "<pre>+-------------------------------------+------------------+-----------------+</pre>"
      ],
      "text/plain": [
       "+-------------------------------------+------------------+-----------------+"
      ]
     },
     "metadata": {},
     "output_type": "display_data"
    },
    {
     "data": {
      "text/html": [
       "<pre>| 4.99s                               | 0                | 0               |</pre>"
      ],
      "text/plain": [
       "| 4.99s                               | 0                | 0               |"
      ]
     },
     "metadata": {},
     "output_type": "display_data"
    },
    {
     "data": {
      "text/html": [
       "<pre>| 5.99s                               | 3                | 1390            |</pre>"
      ],
      "text/plain": [
       "| 5.99s                               | 3                | 1390            |"
      ]
     },
     "metadata": {},
     "output_type": "display_data"
    },
    {
     "data": {
      "text/html": [
       "<pre>| 6.99s                               | 5.75             | 2602            |</pre>"
      ],
      "text/plain": [
       "| 6.99s                               | 5.75             | 2602            |"
      ]
     },
     "metadata": {},
     "output_type": "display_data"
    },
    {
     "data": {
      "text/html": [
       "<pre>| 7.99s                               | 8.75             | 4035            |</pre>"
      ],
      "text/plain": [
       "| 7.99s                               | 8.75             | 4035            |"
      ]
     },
     "metadata": {},
     "output_type": "display_data"
    },
    {
     "data": {
      "text/html": [
       "<pre>| 8.99s                               | 11.75            | 5320            |</pre>"
      ],
      "text/plain": [
       "| 8.99s                               | 11.75            | 5320            |"
      ]
     },
     "metadata": {},
     "output_type": "display_data"
    },
    {
     "data": {
      "text/html": [
       "<pre>| 9.99s                               | 14.5             | 6608            |</pre>"
      ],
      "text/plain": [
       "| 9.99s                               | 14.5             | 6608            |"
      ]
     },
     "metadata": {},
     "output_type": "display_data"
    },
    {
     "data": {
      "text/html": [
       "<pre>| 11.00s                              | 17.5             | 7942            |</pre>"
      ],
      "text/plain": [
       "| 11.00s                              | 17.5             | 7942            |"
      ]
     },
     "metadata": {},
     "output_type": "display_data"
    },
    {
     "data": {
      "text/html": [
       "<pre>| 12.00s                              | 20.5             | 9248            |</pre>"
      ],
      "text/plain": [
       "| 12.00s                              | 20.5             | 9248            |"
      ]
     },
     "metadata": {},
     "output_type": "display_data"
    },
    {
     "data": {
      "text/html": [
       "<pre>| 13.00s                              | 23.25            | 10565           |</pre>"
      ],
      "text/plain": [
       "| 13.00s                              | 23.25            | 10565           |"
      ]
     },
     "metadata": {},
     "output_type": "display_data"
    },
    {
     "data": {
      "text/html": [
       "<pre>| 14.00s                              | 26.5             | 12028           |</pre>"
      ],
      "text/plain": [
       "| 14.00s                              | 26.5             | 12028           |"
      ]
     },
     "metadata": {},
     "output_type": "display_data"
    },
    {
     "data": {
      "text/html": [
       "<pre>| 15.00s                              | 29.25            | 13275           |</pre>"
      ],
      "text/plain": [
       "| 15.00s                              | 29.25            | 13275           |"
      ]
     },
     "metadata": {},
     "output_type": "display_data"
    },
    {
     "data": {
      "text/html": [
       "<pre>| 16.00s                              | 32.5             | 14682           |</pre>"
      ],
      "text/plain": [
       "| 16.00s                              | 32.5             | 14682           |"
      ]
     },
     "metadata": {},
     "output_type": "display_data"
    },
    {
     "data": {
      "text/html": [
       "<pre>| 17.00s                              | 35.25            | 15998           |</pre>"
      ],
      "text/plain": [
       "| 17.00s                              | 35.25            | 15998           |"
      ]
     },
     "metadata": {},
     "output_type": "display_data"
    },
    {
     "data": {
      "text/html": [
       "<pre>| 18.00s                              | 38.5             | 17397           |</pre>"
      ],
      "text/plain": [
       "| 18.00s                              | 38.5             | 17397           |"
      ]
     },
     "metadata": {},
     "output_type": "display_data"
    },
    {
     "data": {
      "text/html": [
       "<pre>| 19.00s                              | 41.25            | 18656           |</pre>"
      ],
      "text/plain": [
       "| 19.00s                              | 41.25            | 18656           |"
      ]
     },
     "metadata": {},
     "output_type": "display_data"
    },
    {
     "data": {
      "text/html": [
       "<pre>| 20.00s                              | 44               | 19889           |</pre>"
      ],
      "text/plain": [
       "| 20.00s                              | 44               | 19889           |"
      ]
     },
     "metadata": {},
     "output_type": "display_data"
    },
    {
     "data": {
      "text/html": [
       "<pre>| 21.00s                              | 46.75            | 21171           |</pre>"
      ],
      "text/plain": [
       "| 21.00s                              | 46.75            | 21171           |"
      ]
     },
     "metadata": {},
     "output_type": "display_data"
    },
    {
     "data": {
      "text/html": [
       "<pre>| 22.01s                              | 49.5             | 22427           |</pre>"
      ],
      "text/plain": [
       "| 22.01s                              | 49.5             | 22427           |"
      ]
     },
     "metadata": {},
     "output_type": "display_data"
    },
    {
     "data": {
      "text/html": [
       "<pre>| 23.01s                              | 52.75            | 23850           |</pre>"
      ],
      "text/plain": [
       "| 23.01s                              | 52.75            | 23850           |"
      ]
     },
     "metadata": {},
     "output_type": "display_data"
    },
    {
     "data": {
      "text/html": [
       "<pre>| 24.01s                              | 55.5             | 25139           |</pre>"
      ],
      "text/plain": [
       "| 24.01s                              | 55.5             | 25139           |"
      ]
     },
     "metadata": {},
     "output_type": "display_data"
    },
    {
     "data": {
      "text/html": [
       "<pre>| 25.01s                              | 58.5             | 26469           |</pre>"
      ],
      "text/plain": [
       "| 25.01s                              | 58.5             | 26469           |"
      ]
     },
     "metadata": {},
     "output_type": "display_data"
    },
    {
     "data": {
      "text/html": [
       "<pre>| 26.01s                              | 61.25            | 27736           |</pre>"
      ],
      "text/plain": [
       "| 26.01s                              | 61.25            | 27736           |"
      ]
     },
     "metadata": {},
     "output_type": "display_data"
    },
    {
     "data": {
      "text/html": [
       "<pre>| 27.02s                              | 64.25            | 29050           |</pre>"
      ],
      "text/plain": [
       "| 27.02s                              | 64.25            | 29050           |"
      ]
     },
     "metadata": {},
     "output_type": "display_data"
    },
    {
     "data": {
      "text/html": [
       "<pre>| 28.01s                              | 67.25            | 30349           |</pre>"
      ],
      "text/plain": [
       "| 28.01s                              | 67.25            | 30349           |"
      ]
     },
     "metadata": {},
     "output_type": "display_data"
    },
    {
     "data": {
      "text/html": [
       "<pre>| 29.01s                              | 70               | 31653           |</pre>"
      ],
      "text/plain": [
       "| 29.01s                              | 70               | 31653           |"
      ]
     },
     "metadata": {},
     "output_type": "display_data"
    },
    {
     "data": {
      "text/html": [
       "<pre>| 30.01s                              | 72.25            | 32599           |</pre>"
      ],
      "text/plain": [
       "| 30.01s                              | 72.25            | 32599           |"
      ]
     },
     "metadata": {},
     "output_type": "display_data"
    },
    {
     "data": {
      "text/html": [
       "<pre>| 31.01s                              | 75               | 33938           |</pre>"
      ],
      "text/plain": [
       "| 31.01s                              | 75               | 33938           |"
      ]
     },
     "metadata": {},
     "output_type": "display_data"
    },
    {
     "data": {
      "text/html": [
       "<pre>| 32.02s                              | 78.25            | 35325           |</pre>"
      ],
      "text/plain": [
       "| 32.02s                              | 78.25            | 35325           |"
      ]
     },
     "metadata": {},
     "output_type": "display_data"
    },
    {
     "data": {
      "text/html": [
       "<pre>| 33.02s                              | 81.25            | 36687           |</pre>"
      ],
      "text/plain": [
       "| 33.02s                              | 81.25            | 36687           |"
      ]
     },
     "metadata": {},
     "output_type": "display_data"
    },
    {
     "data": {
      "text/html": [
       "<pre>| 34.02s                              | 84               | 38002           |</pre>"
      ],
      "text/plain": [
       "| 34.02s                              | 84               | 38002           |"
      ]
     },
     "metadata": {},
     "output_type": "display_data"
    },
    {
     "data": {
      "text/html": [
       "<pre>| 35.02s                              | 87.25            | 39363           |</pre>"
      ],
      "text/plain": [
       "| 35.02s                              | 87.25            | 39363           |"
      ]
     },
     "metadata": {},
     "output_type": "display_data"
    },
    {
     "data": {
      "text/html": [
       "<pre>| 36.02s                              | 90.25            | 40745           |</pre>"
      ],
      "text/plain": [
       "| 36.02s                              | 90.25            | 40745           |"
      ]
     },
     "metadata": {},
     "output_type": "display_data"
    },
    {
     "data": {
      "text/html": [
       "<pre>| 37.02s                              | 93.25            | 42176           |</pre>"
      ],
      "text/plain": [
       "| 37.02s                              | 93.25            | 42176           |"
      ]
     },
     "metadata": {},
     "output_type": "display_data"
    },
    {
     "data": {
      "text/html": [
       "<pre>| 38.02s                              | 96.5             | 43556           |</pre>"
      ],
      "text/plain": [
       "| 38.02s                              | 96.5             | 43556           |"
      ]
     },
     "metadata": {},
     "output_type": "display_data"
    },
    {
     "data": {
      "text/html": [
       "<pre>| 39.02s                              | 99.5             | 44949           |</pre>"
      ],
      "text/plain": [
       "| 39.02s                              | 99.5             | 44949           |"
      ]
     },
     "metadata": {},
     "output_type": "display_data"
    },
    {
     "data": {
      "text/html": [
       "<pre>| 46.62s                              | 100              | 45115           |</pre>"
      ],
      "text/plain": [
       "| 46.62s                              | 100              | 45115           |"
      ]
     },
     "metadata": {},
     "output_type": "display_data"
    },
    {
     "data": {
      "text/html": [
       "<pre>+-------------------------------------+------------------+-----------------+</pre>"
      ],
      "text/plain": [
       "+-------------------------------------+------------------+-----------------+"
      ]
     },
     "metadata": {},
     "output_type": "display_data"
    },
    {
     "data": {
      "text/html": [
       "<pre>Finalizing lookup tables.</pre>"
      ],
      "text/plain": [
       "Finalizing lookup tables."
      ]
     },
     "metadata": {},
     "output_type": "display_data"
    },
    {
     "data": {
      "text/html": [
       "<pre>Generating candidate set for working with new users.</pre>"
      ],
      "text/plain": [
       "Generating candidate set for working with new users."
      ]
     },
     "metadata": {},
     "output_type": "display_data"
    },
    {
     "data": {
      "text/html": [
       "<pre>Finished training in 47.2373s</pre>"
      ],
      "text/plain": [
       "Finished training in 47.2373s"
      ]
     },
     "metadata": {},
     "output_type": "display_data"
    }
   ],
   "source": [
    "model = tc.item_similarity_recommender.create(ratings, user_id=\"userId\", item_id=\"movieId\", target=\"rating\")"
   ]
  },
  {
   "cell_type": "markdown",
   "metadata": {},
   "source": [
    "Finally, we'll save the model to the \"movie_rec\" folder - Turi Create models are not saved as files."
   ]
  },
  {
   "cell_type": "code",
   "execution_count": 14,
   "metadata": {},
   "outputs": [],
   "source": [
    "model.save(\"movie_rec\")"
   ]
  }
 ],
 "metadata": {
  "kernelspec": {
   "display_name": "Python 2",
   "language": "python",
   "name": "python2"
  },
  "language_info": {
   "codemirror_mode": {
    "name": "ipython",
    "version": 2
   },
   "file_extension": ".py",
   "mimetype": "text/x-python",
   "name": "python",
   "nbconvert_exporter": "python",
   "pygments_lexer": "ipython2",
   "version": "2.7.15"
  }
 },
 "nbformat": 4,
 "nbformat_minor": 2
}
