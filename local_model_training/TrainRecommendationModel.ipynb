{
 "cells": [
  {
   "cell_type": "markdown",
   "metadata": {},
   "source": [
    "# Training an \"Item Similary Recommender\" model on the MovieLens 26M dataset with Turi Create\n",
    "\n",
    "In this notebook, you're going to use Turi Create to train a movie recommendation in ~1 minute runtime (MacBook Pro w/ TB).\n",
    "\n",
    "Start off by importing `turicreate` (as `tc` for convenience)"
   ]
  },
  {
   "cell_type": "code",
   "execution_count": 1,
   "metadata": {},
   "outputs": [],
   "source": [
    "import turicreate as tc"
   ]
  },
  {
   "cell_type": "markdown",
   "metadata": {},
   "source": [
    "Then, read the \"ratings.csv\" file from the \"ml-latest\" directory. This file contains 3 columns:\n",
    "\n",
    "- userId: The unique identifier of the user that watched and rated a certain movie.\n",
    "- movieId: The unique identifier of the movie that the user watched.\n",
    "- rating: A rating on a scale of 0.5 to 5.\n",
    "- timestamp: When the user rated and watched the movie."
   ]
  },
  {
   "cell_type": "code",
   "execution_count": 2,
   "metadata": {},
   "outputs": [
    {
     "data": {
      "text/html": [
       "<pre>Finished parsing file /Users/tanmaybakshi/turi-create-movie-recommender/local_model_training/ml-latest/ratings.csv</pre>"
      ],
      "text/plain": [
       "Finished parsing file /Users/tanmaybakshi/turi-create-movie-recommender/local_model_training/ml-latest/ratings.csv"
      ]
     },
     "metadata": {},
     "output_type": "display_data"
    },
    {
     "data": {
      "text/html": [
       "<pre>Parsing completed. Parsed 100 lines in 0.758722 secs.</pre>"
      ],
      "text/plain": [
       "Parsing completed. Parsed 100 lines in 0.758722 secs."
      ]
     },
     "metadata": {},
     "output_type": "display_data"
    },
    {
     "name": "stdout",
     "output_type": "stream",
     "text": [
      "------------------------------------------------------\n",
      "Inferred types from first 100 line(s) of file as \n",
      "column_type_hints=[int,int,float,int]\n",
      "If parsing fails due to incorrect types, you can correct\n",
      "the inferred type list above and pass it to read_csv in\n",
      "the column_type_hints argument\n",
      "------------------------------------------------------\n"
     ]
    },
    {
     "data": {
      "text/html": [
       "<pre>Read 2006281 lines. Lines per second: 1.63739e+06</pre>"
      ],
      "text/plain": [
       "Read 2006281 lines. Lines per second: 1.63739e+06"
      ]
     },
     "metadata": {},
     "output_type": "display_data"
    },
    {
     "data": {
      "text/html": [
       "<pre>Read 21225249 lines. Lines per second: 3.42125e+06</pre>"
      ],
      "text/plain": [
       "Read 21225249 lines. Lines per second: 3.42125e+06"
      ]
     },
     "metadata": {},
     "output_type": "display_data"
    },
    {
     "data": {
      "text/html": [
       "<pre>Finished parsing file /Users/tanmaybakshi/turi-create-movie-recommender/local_model_training/ml-latest/ratings.csv</pre>"
      ],
      "text/plain": [
       "Finished parsing file /Users/tanmaybakshi/turi-create-movie-recommender/local_model_training/ml-latest/ratings.csv"
      ]
     },
     "metadata": {},
     "output_type": "display_data"
    },
    {
     "data": {
      "text/html": [
       "<pre>Parsing completed. Parsed 26024289 lines in 7.30512 secs.</pre>"
      ],
      "text/plain": [
       "Parsing completed. Parsed 26024289 lines in 7.30512 secs."
      ]
     },
     "metadata": {},
     "output_type": "display_data"
    }
   ],
   "source": [
    "ratings = tc.SFrame.read_csv(\"ml-latest/ratings.csv\")"
   ]
  },
  {
   "cell_type": "markdown",
   "metadata": {},
   "source": [
    "The \"timestamp\" column of this file is not needed for this code pattern. It could be used to track how a user's interests change over time, but we won't leverage this data point for now. We'll remove that column from the SFrame:"
   ]
  },
  {
   "cell_type": "code",
   "execution_count": 3,
   "metadata": {},
   "outputs": [],
   "source": [
    "del ratings[\"timestamp\"]"
   ]
  },
  {
   "cell_type": "markdown",
   "metadata": {},
   "source": [
    "We'll then print out the ratings SFrame, to get an idea of what the table looks like:"
   ]
  },
  {
   "cell_type": "code",
   "execution_count": 4,
   "metadata": {},
   "outputs": [
    {
     "name": "stdout",
     "output_type": "stream",
     "text": [
      "+--------+---------+--------+\n",
      "| userId | movieId | rating |\n",
      "+--------+---------+--------+\n",
      "|   1    |   110   |  1.0   |\n",
      "|   1    |   147   |  4.5   |\n",
      "|   1    |   858   |  5.0   |\n",
      "|   1    |   1221  |  5.0   |\n",
      "|   1    |   1246  |  5.0   |\n",
      "|   1    |   1968  |  4.0   |\n",
      "|   1    |   2762  |  4.5   |\n",
      "|   1    |   2918  |  5.0   |\n",
      "|   1    |   2959  |  4.0   |\n",
      "|   1    |   4226  |  4.0   |\n",
      "+--------+---------+--------+\n",
      "[26024289 rows x 3 columns]\n",
      "Note: Only the head of the SFrame is printed.\n",
      "You can use print_rows(num_rows=m, num_columns=n) to print more rows and columns.\n"
     ]
    }
   ],
   "source": [
    "print ratings"
   ]
  },
  {
   "cell_type": "markdown",
   "metadata": {},
   "source": [
    "Next, you'll train the model itself. There are a few different kinds of models, but we're going to use the \"item similarity recommender\" model. It's very useful for recommending items to new users when there are only a few previous occurence data points to feed into the model.\n",
    "\n",
    "We'll also have to tell the model that the \"user_id\" column, which is the identifier for the user, is called \"userId\"; the \"item_id\", which is the item that the user interacted with, is \"movieId\"; and the target, which is the score the user provided to the item, is \"rating\"."
   ]
  },
  {
   "cell_type": "code",
   "execution_count": 5,
   "metadata": {},
   "outputs": [
    {
     "data": {
      "text/html": [
       "<pre>Recsys training: model = item_similarity</pre>"
      ],
      "text/plain": [
       "Recsys training: model = item_similarity"
      ]
     },
     "metadata": {},
     "output_type": "display_data"
    },
    {
     "data": {
      "text/html": [
       "<pre>Preparing data set.</pre>"
      ],
      "text/plain": [
       "Preparing data set."
      ]
     },
     "metadata": {},
     "output_type": "display_data"
    },
    {
     "data": {
      "text/html": [
       "<pre>    Data has 26024289 observations with 270896 users and 45115 items.</pre>"
      ],
      "text/plain": [
       "    Data has 26024289 observations with 270896 users and 45115 items."
      ]
     },
     "metadata": {},
     "output_type": "display_data"
    },
    {
     "data": {
      "text/html": [
       "<pre>    Data prepared in: 13.4045s</pre>"
      ],
      "text/plain": [
       "    Data prepared in: 13.4045s"
      ]
     },
     "metadata": {},
     "output_type": "display_data"
    },
    {
     "data": {
      "text/html": [
       "<pre>Training model from provided data.</pre>"
      ],
      "text/plain": [
       "Training model from provided data."
      ]
     },
     "metadata": {},
     "output_type": "display_data"
    },
    {
     "data": {
      "text/html": [
       "<pre>Gathering per-item and per-user statistics.</pre>"
      ],
      "text/plain": [
       "Gathering per-item and per-user statistics."
      ]
     },
     "metadata": {},
     "output_type": "display_data"
    },
    {
     "data": {
      "text/html": [
       "<pre>+--------------------------------+------------+</pre>"
      ],
      "text/plain": [
       "+--------------------------------+------------+"
      ]
     },
     "metadata": {},
     "output_type": "display_data"
    },
    {
     "data": {
      "text/html": [
       "<pre>| Elapsed Time (Item Statistics) | % Complete |</pre>"
      ],
      "text/plain": [
       "| Elapsed Time (Item Statistics) | % Complete |"
      ]
     },
     "metadata": {},
     "output_type": "display_data"
    },
    {
     "data": {
      "text/html": [
       "<pre>+--------------------------------+------------+</pre>"
      ],
      "text/plain": [
       "+--------------------------------+------------+"
      ]
     },
     "metadata": {},
     "output_type": "display_data"
    },
    {
     "data": {
      "text/html": [
       "<pre>| 2.492ms                        | 0.25       |</pre>"
      ],
      "text/plain": [
       "| 2.492ms                        | 0.25       |"
      ]
     },
     "metadata": {},
     "output_type": "display_data"
    },
    {
     "data": {
      "text/html": [
       "<pre>| 568.915ms                      | 100        |</pre>"
      ],
      "text/plain": [
       "| 568.915ms                      | 100        |"
      ]
     },
     "metadata": {},
     "output_type": "display_data"
    },
    {
     "data": {
      "text/html": [
       "<pre>+--------------------------------+------------+</pre>"
      ],
      "text/plain": [
       "+--------------------------------+------------+"
      ]
     },
     "metadata": {},
     "output_type": "display_data"
    },
    {
     "data": {
      "text/html": [
       "<pre>Setting up lookup tables.</pre>"
      ],
      "text/plain": [
       "Setting up lookup tables."
      ]
     },
     "metadata": {},
     "output_type": "display_data"
    },
    {
     "data": {
      "text/html": [
       "<pre>Processing data in one pass using dense lookup tables.</pre>"
      ],
      "text/plain": [
       "Processing data in one pass using dense lookup tables."
      ]
     },
     "metadata": {},
     "output_type": "display_data"
    },
    {
     "data": {
      "text/html": [
       "<pre>+-------------------------------------+------------------+-----------------+</pre>"
      ],
      "text/plain": [
       "+-------------------------------------+------------------+-----------------+"
      ]
     },
     "metadata": {},
     "output_type": "display_data"
    },
    {
     "data": {
      "text/html": [
       "<pre>| Elapsed Time (Constructing Lookups) | Total % Complete | Items Processed |</pre>"
      ],
      "text/plain": [
       "| Elapsed Time (Constructing Lookups) | Total % Complete | Items Processed |"
      ]
     },
     "metadata": {},
     "output_type": "display_data"
    },
    {
     "data": {
      "text/html": [
       "<pre>+-------------------------------------+------------------+-----------------+</pre>"
      ],
      "text/plain": [
       "+-------------------------------------+------------------+-----------------+"
      ]
     },
     "metadata": {},
     "output_type": "display_data"
    },
    {
     "data": {
      "text/html": [
       "<pre>| 6.76s                               | 0                | 0               |</pre>"
      ],
      "text/plain": [
       "| 6.76s                               | 0                | 0               |"
      ]
     },
     "metadata": {},
     "output_type": "display_data"
    },
    {
     "data": {
      "text/html": [
       "<pre>| 7.77s                               | 1                | 520             |</pre>"
      ],
      "text/plain": [
       "| 7.77s                               | 1                | 520             |"
      ]
     },
     "metadata": {},
     "output_type": "display_data"
    },
    {
     "data": {
      "text/html": [
       "<pre>| 8.77s                               | 2.75             | 1291            |</pre>"
      ],
      "text/plain": [
       "| 8.77s                               | 2.75             | 1291            |"
      ]
     },
     "metadata": {},
     "output_type": "display_data"
    },
    {
     "data": {
      "text/html": [
       "<pre>| 9.77s                               | 4.5              | 2087            |</pre>"
      ],
      "text/plain": [
       "| 9.77s                               | 4.5              | 2087            |"
      ]
     },
     "metadata": {},
     "output_type": "display_data"
    },
    {
     "data": {
      "text/html": [
       "<pre>| 10.78s                              | 6.5              | 2950            |</pre>"
      ],
      "text/plain": [
       "| 10.78s                              | 6.5              | 2950            |"
      ]
     },
     "metadata": {},
     "output_type": "display_data"
    },
    {
     "data": {
      "text/html": [
       "<pre>| 11.78s                              | 8.5              | 3883            |</pre>"
      ],
      "text/plain": [
       "| 11.78s                              | 8.5              | 3883            |"
      ]
     },
     "metadata": {},
     "output_type": "display_data"
    },
    {
     "data": {
      "text/html": [
       "<pre>| 12.79s                              | 10.75            | 4858            |</pre>"
      ],
      "text/plain": [
       "| 12.79s                              | 10.75            | 4858            |"
      ]
     },
     "metadata": {},
     "output_type": "display_data"
    },
    {
     "data": {
      "text/html": [
       "<pre>| 13.79s                              | 12.25            | 5602            |</pre>"
      ],
      "text/plain": [
       "| 13.79s                              | 12.25            | 5602            |"
      ]
     },
     "metadata": {},
     "output_type": "display_data"
    },
    {
     "data": {
      "text/html": [
       "<pre>| 14.79s                              | 14.25            | 6429            |</pre>"
      ],
      "text/plain": [
       "| 14.79s                              | 14.25            | 6429            |"
      ]
     },
     "metadata": {},
     "output_type": "display_data"
    },
    {
     "data": {
      "text/html": [
       "<pre>| 15.80s                              | 15.75            | 7133            |</pre>"
      ],
      "text/plain": [
       "| 15.80s                              | 15.75            | 7133            |"
      ]
     },
     "metadata": {},
     "output_type": "display_data"
    },
    {
     "data": {
      "text/html": [
       "<pre>| 16.81s                              | 16.75            | 7629            |</pre>"
      ],
      "text/plain": [
       "| 16.81s                              | 16.75            | 7629            |"
      ]
     },
     "metadata": {},
     "output_type": "display_data"
    },
    {
     "data": {
      "text/html": [
       "<pre>| 17.80s                              | 18               | 8177            |</pre>"
      ],
      "text/plain": [
       "| 17.80s                              | 18               | 8177            |"
      ]
     },
     "metadata": {},
     "output_type": "display_data"
    },
    {
     "data": {
      "text/html": [
       "<pre>| 18.81s                              | 19.25            | 8735            |</pre>"
      ],
      "text/plain": [
       "| 18.81s                              | 19.25            | 8735            |"
      ]
     },
     "metadata": {},
     "output_type": "display_data"
    },
    {
     "data": {
      "text/html": [
       "<pre>| 19.82s                              | 20.25            | 9198            |</pre>"
      ],
      "text/plain": [
       "| 19.82s                              | 20.25            | 9198            |"
      ]
     },
     "metadata": {},
     "output_type": "display_data"
    },
    {
     "data": {
      "text/html": [
       "<pre>| 20.82s                              | 21.25            | 9655            |</pre>"
      ],
      "text/plain": [
       "| 20.82s                              | 21.25            | 9655            |"
      ]
     },
     "metadata": {},
     "output_type": "display_data"
    },
    {
     "data": {
      "text/html": [
       "<pre>| 21.82s                              | 22.25            | 10047           |</pre>"
      ],
      "text/plain": [
       "| 21.82s                              | 22.25            | 10047           |"
      ]
     },
     "metadata": {},
     "output_type": "display_data"
    },
    {
     "data": {
      "text/html": [
       "<pre>| 22.82s                              | 23               | 10455           |</pre>"
      ],
      "text/plain": [
       "| 22.82s                              | 23               | 10455           |"
      ]
     },
     "metadata": {},
     "output_type": "display_data"
    },
    {
     "data": {
      "text/html": [
       "<pre>| 23.82s                              | 24               | 10910           |</pre>"
      ],
      "text/plain": [
       "| 23.82s                              | 24               | 10910           |"
      ]
     },
     "metadata": {},
     "output_type": "display_data"
    },
    {
     "data": {
      "text/html": [
       "<pre>| 24.83s                              | 25.25            | 11420           |</pre>"
      ],
      "text/plain": [
       "| 24.83s                              | 25.25            | 11420           |"
      ]
     },
     "metadata": {},
     "output_type": "display_data"
    },
    {
     "data": {
      "text/html": [
       "<pre>| 25.84s                              | 26               | 11804           |</pre>"
      ],
      "text/plain": [
       "| 25.84s                              | 26               | 11804           |"
      ]
     },
     "metadata": {},
     "output_type": "display_data"
    },
    {
     "data": {
      "text/html": [
       "<pre>| 26.83s                              | 27               | 12191           |</pre>"
      ],
      "text/plain": [
       "| 26.83s                              | 27               | 12191           |"
      ]
     },
     "metadata": {},
     "output_type": "display_data"
    },
    {
     "data": {
      "text/html": [
       "<pre>| 27.84s                              | 28               | 12734           |</pre>"
      ],
      "text/plain": [
       "| 27.84s                              | 28               | 12734           |"
      ]
     },
     "metadata": {},
     "output_type": "display_data"
    },
    {
     "data": {
      "text/html": [
       "<pre>| 28.84s                              | 29               | 13099           |</pre>"
      ],
      "text/plain": [
       "| 28.84s                              | 29               | 13099           |"
      ]
     },
     "metadata": {},
     "output_type": "display_data"
    },
    {
     "data": {
      "text/html": [
       "<pre>| 29.85s                              | 29.75            | 13497           |</pre>"
      ],
      "text/plain": [
       "| 29.85s                              | 29.75            | 13497           |"
      ]
     },
     "metadata": {},
     "output_type": "display_data"
    },
    {
     "data": {
      "text/html": [
       "<pre>| 30.85s                              | 31               | 14031           |</pre>"
      ],
      "text/plain": [
       "| 30.85s                              | 31               | 14031           |"
      ]
     },
     "metadata": {},
     "output_type": "display_data"
    },
    {
     "data": {
      "text/html": [
       "<pre>| 31.85s                              | 32               | 14476           |</pre>"
      ],
      "text/plain": [
       "| 31.85s                              | 32               | 14476           |"
      ]
     },
     "metadata": {},
     "output_type": "display_data"
    },
    {
     "data": {
      "text/html": [
       "<pre>| 32.86s                              | 33.25            | 15065           |</pre>"
      ],
      "text/plain": [
       "| 32.86s                              | 33.25            | 15065           |"
      ]
     },
     "metadata": {},
     "output_type": "display_data"
    },
    {
     "data": {
      "text/html": [
       "<pre>| 33.86s                              | 34.25            | 15552           |</pre>"
      ],
      "text/plain": [
       "| 33.86s                              | 34.25            | 15552           |"
      ]
     },
     "metadata": {},
     "output_type": "display_data"
    },
    {
     "data": {
      "text/html": [
       "<pre>| 34.86s                              | 36.5             | 16528           |</pre>"
      ],
      "text/plain": [
       "| 34.86s                              | 36.5             | 16528           |"
      ]
     },
     "metadata": {},
     "output_type": "display_data"
    },
    {
     "data": {
      "text/html": [
       "<pre>| 35.87s                              | 38               | 17248           |</pre>"
      ],
      "text/plain": [
       "| 35.87s                              | 38               | 17248           |"
      ]
     },
     "metadata": {},
     "output_type": "display_data"
    },
    {
     "data": {
      "text/html": [
       "<pre>| 36.87s                              | 39.25            | 17794           |</pre>"
      ],
      "text/plain": [
       "| 36.87s                              | 39.25            | 17794           |"
      ]
     },
     "metadata": {},
     "output_type": "display_data"
    },
    {
     "data": {
      "text/html": [
       "<pre>| 37.87s                              | 40.75            | 18388           |</pre>"
      ],
      "text/plain": [
       "| 37.87s                              | 40.75            | 18388           |"
      ]
     },
     "metadata": {},
     "output_type": "display_data"
    },
    {
     "data": {
      "text/html": [
       "<pre>| 38.88s                              | 42.5             | 19176           |</pre>"
      ],
      "text/plain": [
       "| 38.88s                              | 42.5             | 19176           |"
      ]
     },
     "metadata": {},
     "output_type": "display_data"
    },
    {
     "data": {
      "text/html": [
       "<pre>| 39.88s                              | 44               | 19934           |</pre>"
      ],
      "text/plain": [
       "| 39.88s                              | 44               | 19934           |"
      ]
     },
     "metadata": {},
     "output_type": "display_data"
    },
    {
     "data": {
      "text/html": [
       "<pre>| 40.89s                              | 45.75            | 20667           |</pre>"
      ],
      "text/plain": [
       "| 40.89s                              | 45.75            | 20667           |"
      ]
     },
     "metadata": {},
     "output_type": "display_data"
    },
    {
     "data": {
      "text/html": [
       "<pre>| 41.89s                              | 47.5             | 21504           |</pre>"
      ],
      "text/plain": [
       "| 41.89s                              | 47.5             | 21504           |"
      ]
     },
     "metadata": {},
     "output_type": "display_data"
    },
    {
     "data": {
      "text/html": [
       "<pre>| 42.89s                              | 49.25            | 22309           |</pre>"
      ],
      "text/plain": [
       "| 42.89s                              | 49.25            | 22309           |"
      ]
     },
     "metadata": {},
     "output_type": "display_data"
    },
    {
     "data": {
      "text/html": [
       "<pre>| 43.90s                              | 51.25            | 23157           |</pre>"
      ],
      "text/plain": [
       "| 43.90s                              | 51.25            | 23157           |"
      ]
     },
     "metadata": {},
     "output_type": "display_data"
    },
    {
     "data": {
      "text/html": [
       "<pre>| 44.90s                              | 53               | 23956           |</pre>"
      ],
      "text/plain": [
       "| 44.90s                              | 53               | 23956           |"
      ]
     },
     "metadata": {},
     "output_type": "display_data"
    },
    {
     "data": {
      "text/html": [
       "<pre>| 45.90s                              | 54.75            | 24748           |</pre>"
      ],
      "text/plain": [
       "| 45.90s                              | 54.75            | 24748           |"
      ]
     },
     "metadata": {},
     "output_type": "display_data"
    },
    {
     "data": {
      "text/html": [
       "<pre>| 46.91s                              | 56.5             | 25529           |</pre>"
      ],
      "text/plain": [
       "| 46.91s                              | 56.5             | 25529           |"
      ]
     },
     "metadata": {},
     "output_type": "display_data"
    },
    {
     "data": {
      "text/html": [
       "<pre>| 47.91s                              | 58.5             | 26450           |</pre>"
      ],
      "text/plain": [
       "| 47.91s                              | 58.5             | 26450           |"
      ]
     },
     "metadata": {},
     "output_type": "display_data"
    },
    {
     "data": {
      "text/html": [
       "<pre>| 48.91s                              | 60.25            | 27274           |</pre>"
      ],
      "text/plain": [
       "| 48.91s                              | 60.25            | 27274           |"
      ]
     },
     "metadata": {},
     "output_type": "display_data"
    },
    {
     "data": {
      "text/html": [
       "<pre>| 49.92s                              | 62.25            | 28093           |</pre>"
      ],
      "text/plain": [
       "| 49.92s                              | 62.25            | 28093           |"
      ]
     },
     "metadata": {},
     "output_type": "display_data"
    },
    {
     "data": {
      "text/html": [
       "<pre>| 50.92s                              | 64               | 28925           |</pre>"
      ],
      "text/plain": [
       "| 50.92s                              | 64               | 28925           |"
      ]
     },
     "metadata": {},
     "output_type": "display_data"
    },
    {
     "data": {
      "text/html": [
       "<pre>| 51.92s                              | 66               | 29784           |</pre>"
      ],
      "text/plain": [
       "| 51.92s                              | 66               | 29784           |"
      ]
     },
     "metadata": {},
     "output_type": "display_data"
    },
    {
     "data": {
      "text/html": [
       "<pre>| 52.93s                              | 67.75            | 30655           |</pre>"
      ],
      "text/plain": [
       "| 52.93s                              | 67.75            | 30655           |"
      ]
     },
     "metadata": {},
     "output_type": "display_data"
    },
    {
     "data": {
      "text/html": [
       "<pre>| 53.93s                              | 69.75            | 31564           |</pre>"
      ],
      "text/plain": [
       "| 53.93s                              | 69.75            | 31564           |"
      ]
     },
     "metadata": {},
     "output_type": "display_data"
    },
    {
     "data": {
      "text/html": [
       "<pre>| 54.94s                              | 71.75            | 32392           |</pre>"
      ],
      "text/plain": [
       "| 54.94s                              | 71.75            | 32392           |"
      ]
     },
     "metadata": {},
     "output_type": "display_data"
    },
    {
     "data": {
      "text/html": [
       "<pre>| 55.94s                              | 73.5             | 33229           |</pre>"
      ],
      "text/plain": [
       "| 55.94s                              | 73.5             | 33229           |"
      ]
     },
     "metadata": {},
     "output_type": "display_data"
    },
    {
     "data": {
      "text/html": [
       "<pre>| 56.94s                              | 75.5             | 34076           |</pre>"
      ],
      "text/plain": [
       "| 56.94s                              | 75.5             | 34076           |"
      ]
     },
     "metadata": {},
     "output_type": "display_data"
    },
    {
     "data": {
      "text/html": [
       "<pre>| 57.96s                              | 77.25            | 34957           |</pre>"
      ],
      "text/plain": [
       "| 57.96s                              | 77.25            | 34957           |"
      ]
     },
     "metadata": {},
     "output_type": "display_data"
    },
    {
     "data": {
      "text/html": [
       "<pre>| 58.95s                              | 78.75            | 35583           |</pre>"
      ],
      "text/plain": [
       "| 58.95s                              | 78.75            | 35583           |"
      ]
     },
     "metadata": {},
     "output_type": "display_data"
    },
    {
     "data": {
      "text/html": [
       "<pre>| 59.95s                              | 79.75            | 35993           |</pre>"
      ],
      "text/plain": [
       "| 59.95s                              | 79.75            | 35993           |"
      ]
     },
     "metadata": {},
     "output_type": "display_data"
    },
    {
     "data": {
      "text/html": [
       "<pre>| 1m 0s                               | 81.5             | 36858           |</pre>"
      ],
      "text/plain": [
       "| 1m 0s                               | 81.5             | 36858           |"
      ]
     },
     "metadata": {},
     "output_type": "display_data"
    },
    {
     "data": {
      "text/html": [
       "<pre>| 1m 1s                               | 83.25            | 37668           |</pre>"
      ],
      "text/plain": [
       "| 1m 1s                               | 83.25            | 37668           |"
      ]
     },
     "metadata": {},
     "output_type": "display_data"
    },
    {
     "data": {
      "text/html": [
       "<pre>| 1m 2s                               | 85.5             | 38631           |</pre>"
      ],
      "text/plain": [
       "| 1m 2s                               | 85.5             | 38631           |"
      ]
     },
     "metadata": {},
     "output_type": "display_data"
    },
    {
     "data": {
      "text/html": [
       "<pre>| 1m 3s                               | 87.25            | 39405           |</pre>"
      ],
      "text/plain": [
       "| 1m 3s                               | 87.25            | 39405           |"
      ]
     },
     "metadata": {},
     "output_type": "display_data"
    },
    {
     "data": {
      "text/html": [
       "<pre>| 1m 4s                               | 88.75            | 40083           |</pre>"
      ],
      "text/plain": [
       "| 1m 4s                               | 88.75            | 40083           |"
      ]
     },
     "metadata": {},
     "output_type": "display_data"
    },
    {
     "data": {
      "text/html": [
       "<pre>| 1m 5s                               | 90.25            | 40722           |</pre>"
      ],
      "text/plain": [
       "| 1m 5s                               | 90.25            | 40722           |"
      ]
     },
     "metadata": {},
     "output_type": "display_data"
    },
    {
     "data": {
      "text/html": [
       "<pre>| 1m 6s                               | 91.75            | 41505           |</pre>"
      ],
      "text/plain": [
       "| 1m 6s                               | 91.75            | 41505           |"
      ]
     },
     "metadata": {},
     "output_type": "display_data"
    },
    {
     "data": {
      "text/html": [
       "<pre>| 1m 7s                               | 93.5             | 42188           |</pre>"
      ],
      "text/plain": [
       "| 1m 7s                               | 93.5             | 42188           |"
      ]
     },
     "metadata": {},
     "output_type": "display_data"
    },
    {
     "data": {
      "text/html": [
       "<pre>| 1m 8s                               | 95.25            | 43011           |</pre>"
      ],
      "text/plain": [
       "| 1m 8s                               | 95.25            | 43011           |"
      ]
     },
     "metadata": {},
     "output_type": "display_data"
    },
    {
     "data": {
      "text/html": [
       "<pre>| 1m 9s                               | 97.5             | 44012           |</pre>"
      ],
      "text/plain": [
       "| 1m 9s                               | 97.5             | 44012           |"
      ]
     },
     "metadata": {},
     "output_type": "display_data"
    },
    {
     "data": {
      "text/html": [
       "<pre>| 1m 10s                              | 99.75            | 45002           |</pre>"
      ],
      "text/plain": [
       "| 1m 10s                              | 99.75            | 45002           |"
      ]
     },
     "metadata": {},
     "output_type": "display_data"
    },
    {
     "data": {
      "text/html": [
       "<pre>| 1m 23s                              | 100              | 45115           |</pre>"
      ],
      "text/plain": [
       "| 1m 23s                              | 100              | 45115           |"
      ]
     },
     "metadata": {},
     "output_type": "display_data"
    },
    {
     "data": {
      "text/html": [
       "<pre>+-------------------------------------+------------------+-----------------+</pre>"
      ],
      "text/plain": [
       "+-------------------------------------+------------------+-----------------+"
      ]
     },
     "metadata": {},
     "output_type": "display_data"
    },
    {
     "data": {
      "text/html": [
       "<pre>Finalizing lookup tables.</pre>"
      ],
      "text/plain": [
       "Finalizing lookup tables."
      ]
     },
     "metadata": {},
     "output_type": "display_data"
    },
    {
     "data": {
      "text/html": [
       "<pre>Generating candidate set for working with new users.</pre>"
      ],
      "text/plain": [
       "Generating candidate set for working with new users."
      ]
     },
     "metadata": {},
     "output_type": "display_data"
    },
    {
     "data": {
      "text/html": [
       "<pre>Finished training in 85.9449s</pre>"
      ],
      "text/plain": [
       "Finished training in 85.9449s"
      ]
     },
     "metadata": {},
     "output_type": "display_data"
    }
   ],
   "source": [
    "model = tc.item_similarity_recommender.create(ratings, user_id=\"userId\", item_id=\"movieId\", target=\"rating\")"
   ]
  },
  {
   "cell_type": "markdown",
   "metadata": {},
   "source": [
    "Finally, we'll save the model to the \"movie_rec\" folder - Turi Create models are not saved as files."
   ]
  },
  {
   "cell_type": "code",
   "execution_count": 6,
   "metadata": {},
   "outputs": [],
   "source": [
    "model.save(\"movie_rec\")"
   ]
  }
 ],
 "metadata": {
  "kernelspec": {
   "display_name": "Python 2",
   "language": "python",
   "name": "python2"
  },
  "language_info": {
   "codemirror_mode": {
    "name": "ipython",
    "version": 2
   },
   "file_extension": ".py",
   "mimetype": "text/x-python",
   "name": "python",
   "nbconvert_exporter": "python",
   "pygments_lexer": "ipython2",
   "version": "2.7.15"
  }
 },
 "nbformat": 4,
 "nbformat_minor": 2
}
