{
 "cells": [
  {
   "cell_type": "markdown",
   "metadata": {},
   "source": [
    "# Training an \"Item Similary Recommender\" model on the MovieLens 26M dataset with Turi Create\n",
    "\n",
    "In this notebook, you're going to use Turi Create to train a movie recommendation in ~1 minute runtime (MacBook Pro w/ TB).\n",
    "\n",
    "Start off by importing `turicreate` (as `tc` for convenience)"
   ]
  },
  {
   "cell_type": "code",
   "execution_count": 1,
   "metadata": {},
   "outputs": [],
   "source": [
    "import turicreate as tc"
   ]
  },
  {
   "cell_type": "markdown",
   "metadata": {},
   "source": [
    "Then, read the \"ratings.csv\" file from the \"ml-latest\" directory. This file contains 3 columns:\n",
    "\n",
    "- userId: The unique identifier of the user that watched and rated a certain movie.\n",
    "- movieId: The unique identifier of the movie that the user watched.\n",
    "- rating: A rating on a scale of 0.5 to 5.\n",
    "- timestamp: When the user rated and watched the movie."
   ]
  },
  {
   "cell_type": "code",
   "execution_count": 2,
   "metadata": {},
   "outputs": [
    {
     "data": {
      "text/html": [
       "<pre>Finished parsing file /Users/tanmaybakshi/turi-create-movie-recommender/local_model_training/ml-latest/ratings.csv</pre>"
      ],
      "text/plain": [
       "Finished parsing file /Users/tanmaybakshi/turi-create-movie-recommender/local_model_training/ml-latest/ratings.csv"
      ]
     },
     "metadata": {},
     "output_type": "display_data"
    },
    {
     "data": {
      "text/html": [
       "<pre>Parsing completed. Parsed 100 lines in 0.435318 secs.</pre>"
      ],
      "text/plain": [
       "Parsing completed. Parsed 100 lines in 0.435318 secs."
      ]
     },
     "metadata": {},
     "output_type": "display_data"
    },
    {
     "name": "stdout",
     "output_type": "stream",
     "text": [
      "------------------------------------------------------\n",
      "Inferred types from first 100 line(s) of file as \n",
      "column_type_hints=[int,int,float,int]\n",
      "If parsing fails due to incorrect types, you can correct\n",
      "the inferred type list above and pass it to read_csv in\n",
      "the column_type_hints argument\n",
      "------------------------------------------------------\n"
     ]
    },
    {
     "data": {
      "text/html": [
       "<pre>Read 2006281 lines. Lines per second: 2.75373e+06</pre>"
      ],
      "text/plain": [
       "Read 2006281 lines. Lines per second: 2.75373e+06"
      ]
     },
     "metadata": {},
     "output_type": "display_data"
    },
    {
     "data": {
      "text/html": [
       "<pre>Finished parsing file /Users/tanmaybakshi/turi-create-movie-recommender/local_model_training/ml-latest/ratings.csv</pre>"
      ],
      "text/plain": [
       "Finished parsing file /Users/tanmaybakshi/turi-create-movie-recommender/local_model_training/ml-latest/ratings.csv"
      ]
     },
     "metadata": {},
     "output_type": "display_data"
    },
    {
     "data": {
      "text/html": [
       "<pre>Parsing completed. Parsed 26024289 lines in 5.16935 secs.</pre>"
      ],
      "text/plain": [
       "Parsing completed. Parsed 26024289 lines in 5.16935 secs."
      ]
     },
     "metadata": {},
     "output_type": "display_data"
    }
   ],
   "source": [
    "ratings = tc.SFrame.read_csv(\"ml-latest/ratings.csv\")"
   ]
  },
  {
   "cell_type": "markdown",
   "metadata": {},
   "source": [
    "The \"timestamp\" column of this file is not needed for this code pattern. It could be used to track how a user's interests change over time, but we won't leverage this data point for now. We'll remove that column from the SFrame:"
   ]
  },
  {
   "cell_type": "code",
   "execution_count": 3,
   "metadata": {},
   "outputs": [],
   "source": [
    "del ratings[\"timestamp\"]"
   ]
  },
  {
   "cell_type": "markdown",
   "metadata": {},
   "source": [
    "We'll then print out the ratings SFrame, to get an idea of what the table looks like:"
   ]
  },
  {
   "cell_type": "code",
   "execution_count": 4,
   "metadata": {},
   "outputs": [
    {
     "name": "stdout",
     "output_type": "stream",
     "text": [
      "+--------+---------+--------+\n",
      "| userId | movieId | rating |\n",
      "+--------+---------+--------+\n",
      "|   1    |   110   |  1.0   |\n",
      "|   1    |   147   |  4.5   |\n",
      "|   1    |   858   |  5.0   |\n",
      "|   1    |   1221  |  5.0   |\n",
      "|   1    |   1246  |  5.0   |\n",
      "|   1    |   1968  |  4.0   |\n",
      "|   1    |   2762  |  4.5   |\n",
      "|   1    |   2918  |  5.0   |\n",
      "|   1    |   2959  |  4.0   |\n",
      "|   1    |   4226  |  4.0   |\n",
      "+--------+---------+--------+\n",
      "[26024289 rows x 3 columns]\n",
      "Note: Only the head of the SFrame is printed.\n",
      "You can use print_rows(num_rows=m, num_columns=n) to print more rows and columns.\n"
     ]
    }
   ],
   "source": [
    "print ratings"
   ]
  },
  {
   "cell_type": "markdown",
   "metadata": {},
   "source": [
    "Next, you'll train the model itself. There are a few different kinds of models, but we're going to use the \"item similarity recommender\" model. It's very useful for recommending items to new users when there are only a few previous occurence data points to feed into the model.\n",
    "\n",
    "We'll also have to tell the model that the \"user_id\" column, which is the identifier for the user, is called \"userId\"; the \"item_id\", which is the item that the user interacted with, is \"movieId\"; and the target, which is the score the user provided to the item, is \"rating\"."
   ]
  },
  {
   "cell_type": "code",
   "execution_count": 5,
   "metadata": {},
   "outputs": [
    {
     "data": {
      "text/html": [
       "<pre>Recsys training: model = item_similarity</pre>"
      ],
      "text/plain": [
       "Recsys training: model = item_similarity"
      ]
     },
     "metadata": {},
     "output_type": "display_data"
    },
    {
     "data": {
      "text/html": [
       "<pre>Preparing data set.</pre>"
      ],
      "text/plain": [
       "Preparing data set."
      ]
     },
     "metadata": {},
     "output_type": "display_data"
    },
    {
     "data": {
      "text/html": [
       "<pre>    Data has 26024289 observations with 270896 users and 45115 items.</pre>"
      ],
      "text/plain": [
       "    Data has 26024289 observations with 270896 users and 45115 items."
      ]
     },
     "metadata": {},
     "output_type": "display_data"
    },
    {
     "data": {
      "text/html": [
       "<pre>    Data prepared in: 8.86441s</pre>"
      ],
      "text/plain": [
       "    Data prepared in: 8.86441s"
      ]
     },
     "metadata": {},
     "output_type": "display_data"
    },
    {
     "data": {
      "text/html": [
       "<pre>Training model from provided data.</pre>"
      ],
      "text/plain": [
       "Training model from provided data."
      ]
     },
     "metadata": {},
     "output_type": "display_data"
    },
    {
     "data": {
      "text/html": [
       "<pre>Gathering per-item and per-user statistics.</pre>"
      ],
      "text/plain": [
       "Gathering per-item and per-user statistics."
      ]
     },
     "metadata": {},
     "output_type": "display_data"
    },
    {
     "data": {
      "text/html": [
       "<pre>+--------------------------------+------------+</pre>"
      ],
      "text/plain": [
       "+--------------------------------+------------+"
      ]
     },
     "metadata": {},
     "output_type": "display_data"
    },
    {
     "data": {
      "text/html": [
       "<pre>| Elapsed Time (Item Statistics) | % Complete |</pre>"
      ],
      "text/plain": [
       "| Elapsed Time (Item Statistics) | % Complete |"
      ]
     },
     "metadata": {},
     "output_type": "display_data"
    },
    {
     "data": {
      "text/html": [
       "<pre>+--------------------------------+------------+</pre>"
      ],
      "text/plain": [
       "+--------------------------------+------------+"
      ]
     },
     "metadata": {},
     "output_type": "display_data"
    },
    {
     "data": {
      "text/html": [
       "<pre>| 2.279ms                        | 0.25       |</pre>"
      ],
      "text/plain": [
       "| 2.279ms                        | 0.25       |"
      ]
     },
     "metadata": {},
     "output_type": "display_data"
    },
    {
     "data": {
      "text/html": [
       "<pre>| 324.491ms                      | 100        |</pre>"
      ],
      "text/plain": [
       "| 324.491ms                      | 100        |"
      ]
     },
     "metadata": {},
     "output_type": "display_data"
    },
    {
     "data": {
      "text/html": [
       "<pre>+--------------------------------+------------+</pre>"
      ],
      "text/plain": [
       "+--------------------------------+------------+"
      ]
     },
     "metadata": {},
     "output_type": "display_data"
    },
    {
     "data": {
      "text/html": [
       "<pre>Setting up lookup tables.</pre>"
      ],
      "text/plain": [
       "Setting up lookup tables."
      ]
     },
     "metadata": {},
     "output_type": "display_data"
    },
    {
     "data": {
      "text/html": [
       "<pre>Processing data in one pass using dense lookup tables.</pre>"
      ],
      "text/plain": [
       "Processing data in one pass using dense lookup tables."
      ]
     },
     "metadata": {},
     "output_type": "display_data"
    },
    {
     "data": {
      "text/html": [
       "<pre>+-------------------------------------+------------------+-----------------+</pre>"
      ],
      "text/plain": [
       "+-------------------------------------+------------------+-----------------+"
      ]
     },
     "metadata": {},
     "output_type": "display_data"
    },
    {
     "data": {
      "text/html": [
       "<pre>| Elapsed Time (Constructing Lookups) | Total % Complete | Items Processed |</pre>"
      ],
      "text/plain": [
       "| Elapsed Time (Constructing Lookups) | Total % Complete | Items Processed |"
      ]
     },
     "metadata": {},
     "output_type": "display_data"
    },
    {
     "data": {
      "text/html": [
       "<pre>+-------------------------------------+------------------+-----------------+</pre>"
      ],
      "text/plain": [
       "+-------------------------------------+------------------+-----------------+"
      ]
     },
     "metadata": {},
     "output_type": "display_data"
    },
    {
     "data": {
      "text/html": [
       "<pre>| 4.63s                               | 0                | 0               |</pre>"
      ],
      "text/plain": [
       "| 4.63s                               | 0                | 0               |"
      ]
     },
     "metadata": {},
     "output_type": "display_data"
    },
    {
     "data": {
      "text/html": [
       "<pre>| 5.64s                               | 3                | 1411            |</pre>"
      ],
      "text/plain": [
       "| 5.64s                               | 3                | 1411            |"
      ]
     },
     "metadata": {},
     "output_type": "display_data"
    },
    {
     "data": {
      "text/html": [
       "<pre>| 6.64s                               | 6                | 2802            |</pre>"
      ],
      "text/plain": [
       "| 6.64s                               | 6                | 2802            |"
      ]
     },
     "metadata": {},
     "output_type": "display_data"
    },
    {
     "data": {
      "text/html": [
       "<pre>| 7.64s                               | 9.25             | 4229            |</pre>"
      ],
      "text/plain": [
       "| 7.64s                               | 9.25             | 4229            |"
      ]
     },
     "metadata": {},
     "output_type": "display_data"
    },
    {
     "data": {
      "text/html": [
       "<pre>| 8.65s                               | 12.25            | 5611            |</pre>"
      ],
      "text/plain": [
       "| 8.65s                               | 12.25            | 5611            |"
      ]
     },
     "metadata": {},
     "output_type": "display_data"
    },
    {
     "data": {
      "text/html": [
       "<pre>| 9.65s                               | 15.5             | 7057            |</pre>"
      ],
      "text/plain": [
       "| 9.65s                               | 15.5             | 7057            |"
      ]
     },
     "metadata": {},
     "output_type": "display_data"
    },
    {
     "data": {
      "text/html": [
       "<pre>| 10.65s                              | 18.25            | 8294            |</pre>"
      ],
      "text/plain": [
       "| 10.65s                              | 18.25            | 8294            |"
      ]
     },
     "metadata": {},
     "output_type": "display_data"
    },
    {
     "data": {
      "text/html": [
       "<pre>| 11.66s                              | 21.5             | 9718            |</pre>"
      ],
      "text/plain": [
       "| 11.66s                              | 21.5             | 9718            |"
      ]
     },
     "metadata": {},
     "output_type": "display_data"
    },
    {
     "data": {
      "text/html": [
       "<pre>| 12.66s                              | 24.5             | 11140           |</pre>"
      ],
      "text/plain": [
       "| 12.66s                              | 24.5             | 11140           |"
      ]
     },
     "metadata": {},
     "output_type": "display_data"
    },
    {
     "data": {
      "text/html": [
       "<pre>| 13.66s                              | 27.5             | 12502           |</pre>"
      ],
      "text/plain": [
       "| 13.66s                              | 27.5             | 12502           |"
      ]
     },
     "metadata": {},
     "output_type": "display_data"
    },
    {
     "data": {
      "text/html": [
       "<pre>| 14.67s                              | 30.75            | 13914           |</pre>"
      ],
      "text/plain": [
       "| 14.67s                              | 30.75            | 13914           |"
      ]
     },
     "metadata": {},
     "output_type": "display_data"
    },
    {
     "data": {
      "text/html": [
       "<pre>| 15.67s                              | 34               | 15396           |</pre>"
      ],
      "text/plain": [
       "| 15.67s                              | 34               | 15396           |"
      ]
     },
     "metadata": {},
     "output_type": "display_data"
    },
    {
     "data": {
      "text/html": [
       "<pre>| 16.67s                              | 37.5             | 16954           |</pre>"
      ],
      "text/plain": [
       "| 16.67s                              | 37.5             | 16954           |"
      ]
     },
     "metadata": {},
     "output_type": "display_data"
    },
    {
     "data": {
      "text/html": [
       "<pre>| 17.68s                              | 40               | 18123           |</pre>"
      ],
      "text/plain": [
       "| 17.68s                              | 40               | 18123           |"
      ]
     },
     "metadata": {},
     "output_type": "display_data"
    },
    {
     "data": {
      "text/html": [
       "<pre>| 18.68s                              | 43               | 19416           |</pre>"
      ],
      "text/plain": [
       "| 18.68s                              | 43               | 19416           |"
      ]
     },
     "metadata": {},
     "output_type": "display_data"
    },
    {
     "data": {
      "text/html": [
       "<pre>| 19.68s                              | 45.5             | 20574           |</pre>"
      ],
      "text/plain": [
       "| 19.68s                              | 45.5             | 20574           |"
      ]
     },
     "metadata": {},
     "output_type": "display_data"
    },
    {
     "data": {
      "text/html": [
       "<pre>| 20.69s                              | 48.25            | 21868           |</pre>"
      ],
      "text/plain": [
       "| 20.69s                              | 48.25            | 21868           |"
      ]
     },
     "metadata": {},
     "output_type": "display_data"
    },
    {
     "data": {
      "text/html": [
       "<pre>| 21.69s                              | 51.5             | 23302           |</pre>"
      ],
      "text/plain": [
       "| 21.69s                              | 51.5             | 23302           |"
      ]
     },
     "metadata": {},
     "output_type": "display_data"
    },
    {
     "data": {
      "text/html": [
       "<pre>| 22.69s                              | 54.5             | 24646           |</pre>"
      ],
      "text/plain": [
       "| 22.69s                              | 54.5             | 24646           |"
      ]
     },
     "metadata": {},
     "output_type": "display_data"
    },
    {
     "data": {
      "text/html": [
       "<pre>| 23.70s                              | 57.75            | 26056           |</pre>"
      ],
      "text/plain": [
       "| 23.70s                              | 57.75            | 26056           |"
      ]
     },
     "metadata": {},
     "output_type": "display_data"
    },
    {
     "data": {
      "text/html": [
       "<pre>| 24.70s                              | 60.75            | 27409           |</pre>"
      ],
      "text/plain": [
       "| 24.70s                              | 60.75            | 27409           |"
      ]
     },
     "metadata": {},
     "output_type": "display_data"
    },
    {
     "data": {
      "text/html": [
       "<pre>| 25.70s                              | 63.75            | 28802           |</pre>"
      ],
      "text/plain": [
       "| 25.70s                              | 63.75            | 28802           |"
      ]
     },
     "metadata": {},
     "output_type": "display_data"
    },
    {
     "data": {
      "text/html": [
       "<pre>| 26.71s                              | 67               | 30250           |</pre>"
      ],
      "text/plain": [
       "| 26.71s                              | 67               | 30250           |"
      ]
     },
     "metadata": {},
     "output_type": "display_data"
    },
    {
     "data": {
      "text/html": [
       "<pre>| 27.71s                              | 70               | 31686           |</pre>"
      ],
      "text/plain": [
       "| 27.71s                              | 70               | 31686           |"
      ]
     },
     "metadata": {},
     "output_type": "display_data"
    },
    {
     "data": {
      "text/html": [
       "<pre>| 28.71s                              | 73.25            | 33059           |</pre>"
      ],
      "text/plain": [
       "| 28.71s                              | 73.25            | 33059           |"
      ]
     },
     "metadata": {},
     "output_type": "display_data"
    },
    {
     "data": {
      "text/html": [
       "<pre>| 29.72s                              | 76.25            | 34493           |</pre>"
      ],
      "text/plain": [
       "| 29.72s                              | 76.25            | 34493           |"
      ]
     },
     "metadata": {},
     "output_type": "display_data"
    },
    {
     "data": {
      "text/html": [
       "<pre>| 30.72s                              | 79.5             | 35912           |</pre>"
      ],
      "text/plain": [
       "| 30.72s                              | 79.5             | 35912           |"
      ]
     },
     "metadata": {},
     "output_type": "display_data"
    },
    {
     "data": {
      "text/html": [
       "<pre>| 31.72s                              | 82.75            | 37350           |</pre>"
      ],
      "text/plain": [
       "| 31.72s                              | 82.75            | 37350           |"
      ]
     },
     "metadata": {},
     "output_type": "display_data"
    },
    {
     "data": {
      "text/html": [
       "<pre>| 32.73s                              | 85.75            | 38695           |</pre>"
      ],
      "text/plain": [
       "| 32.73s                              | 85.75            | 38695           |"
      ]
     },
     "metadata": {},
     "output_type": "display_data"
    },
    {
     "data": {
      "text/html": [
       "<pre>| 33.73s                              | 88.75            | 40137           |</pre>"
      ],
      "text/plain": [
       "| 33.73s                              | 88.75            | 40137           |"
      ]
     },
     "metadata": {},
     "output_type": "display_data"
    },
    {
     "data": {
      "text/html": [
       "<pre>| 34.73s                              | 92               | 41567           |</pre>"
      ],
      "text/plain": [
       "| 34.73s                              | 92               | 41567           |"
      ]
     },
     "metadata": {},
     "output_type": "display_data"
    },
    {
     "data": {
      "text/html": [
       "<pre>| 35.74s                              | 95.25            | 43001           |</pre>"
      ],
      "text/plain": [
       "| 35.74s                              | 95.25            | 43001           |"
      ]
     },
     "metadata": {},
     "output_type": "display_data"
    },
    {
     "data": {
      "text/html": [
       "<pre>| 36.74s                              | 98.5             | 44496           |</pre>"
      ],
      "text/plain": [
       "| 36.74s                              | 98.5             | 44496           |"
      ]
     },
     "metadata": {},
     "output_type": "display_data"
    },
    {
     "data": {
      "text/html": [
       "<pre>| 44.58s                              | 100              | 45115           |</pre>"
      ],
      "text/plain": [
       "| 44.58s                              | 100              | 45115           |"
      ]
     },
     "metadata": {},
     "output_type": "display_data"
    },
    {
     "data": {
      "text/html": [
       "<pre>+-------------------------------------+------------------+-----------------+</pre>"
      ],
      "text/plain": [
       "+-------------------------------------+------------------+-----------------+"
      ]
     },
     "metadata": {},
     "output_type": "display_data"
    },
    {
     "data": {
      "text/html": [
       "<pre>Finalizing lookup tables.</pre>"
      ],
      "text/plain": [
       "Finalizing lookup tables."
      ]
     },
     "metadata": {},
     "output_type": "display_data"
    },
    {
     "data": {
      "text/html": [
       "<pre>Generating candidate set for working with new users.</pre>"
      ],
      "text/plain": [
       "Generating candidate set for working with new users."
      ]
     },
     "metadata": {},
     "output_type": "display_data"
    },
    {
     "data": {
      "text/html": [
       "<pre>Finished training in 46.0615s</pre>"
      ],
      "text/plain": [
       "Finished training in 46.0615s"
      ]
     },
     "metadata": {},
     "output_type": "display_data"
    }
   ],
   "source": [
    "model = tc.item_similarity_recommender.create(ratings, user_id=\"userId\", item_id=\"movieId\", target=\"rating\")"
   ]
  },
  {
   "cell_type": "markdown",
   "metadata": {},
   "source": [
    "Finally, we'll save the model to the \"movie_rec\" folder - Turi Create models are not saved as files."
   ]
  },
  {
   "cell_type": "code",
   "execution_count": 6,
   "metadata": {},
   "outputs": [],
   "source": [
    "model.save(\"movie_rec\")"
   ]
  }
 ],
 "metadata": {
  "kernelspec": {
   "display_name": "Python 2",
   "language": "python",
   "name": "python2"
  },
  "language_info": {
   "codemirror_mode": {
    "name": "ipython",
    "version": 2
   },
   "file_extension": ".py",
   "mimetype": "text/x-python",
   "name": "python",
   "nbconvert_exporter": "python",
   "pygments_lexer": "ipython2",
   "version": "2.7.15"
  }
 },
 "nbformat": 4,
 "nbformat_minor": 2
}
