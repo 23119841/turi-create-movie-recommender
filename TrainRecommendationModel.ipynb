{
 "cells": [
  {
   "cell_type": "markdown",
   "metadata": {},
   "source": [
    "# Training an \"Item Similary Recommender\" model on the MovieLens 20M dataset with Turi Create\n",
    "\n",
    "In this notebook, you're going to use Turi Create to train a movie recommendation in ~1 minute runtime (MacBook Pro w/ TB).\n",
    "\n",
    "Start off by importing `turicreate` (as `tc` for convenience)"
   ]
  },
  {
   "cell_type": "code",
   "execution_count": 33,
   "metadata": {},
   "outputs": [],
   "source": [
    "import turicreate as tc"
   ]
  },
  {
   "cell_type": "markdown",
   "metadata": {},
   "source": [
    "Then, read the \"ratings.csv\" file from the \"ml-20m\" directory. This file contains 3 columns:\n",
    "\n",
    "- userId: The unique identifier of the user that watched and rated a certain movie.\n",
    "- movieId: The unique identifier of the movie that the user watched.\n",
    "- rating: A rating on a scale of 0.5 to 5.\n",
    "- timestamp: When the user rated and watched the movie."
   ]
  },
  {
   "cell_type": "code",
   "execution_count": 34,
   "metadata": {},
   "outputs": [
    {
     "data": {
      "text/html": [
       "<pre>Finished parsing file /Users/tanmaybakshi/Desktop/Development/MovieRecommendation/git_repo/ml-20m/ratings.csv</pre>"
      ],
      "text/plain": [
       "Finished parsing file /Users/tanmaybakshi/Desktop/Development/MovieRecommendation/git_repo/ml-20m/ratings.csv"
      ]
     },
     "metadata": {},
     "output_type": "display_data"
    },
    {
     "data": {
      "text/html": [
       "<pre>Parsing completed. Parsed 100 lines in 0.432485 secs.</pre>"
      ],
      "text/plain": [
       "Parsing completed. Parsed 100 lines in 0.432485 secs."
      ]
     },
     "metadata": {},
     "output_type": "display_data"
    },
    {
     "name": "stdout",
     "output_type": "stream",
     "text": [
      "------------------------------------------------------\n",
      "Inferred types from first 100 line(s) of file as \n",
      "column_type_hints=[int,int,float,int]\n",
      "If parsing fails due to incorrect types, you can correct\n",
      "the inferred type list above and pass it to read_csv in\n",
      "the column_type_hints argument\n",
      "------------------------------------------------------\n"
     ]
    },
    {
     "data": {
      "text/html": [
       "<pre>Read 2042753 lines. Lines per second: 2.59664e+06</pre>"
      ],
      "text/plain": [
       "Read 2042753 lines. Lines per second: 2.59664e+06"
      ]
     },
     "metadata": {},
     "output_type": "display_data"
    },
    {
     "data": {
      "text/html": [
       "<pre>Finished parsing file /Users/tanmaybakshi/Desktop/Development/MovieRecommendation/git_repo/ml-20m/ratings.csv</pre>"
      ],
      "text/plain": [
       "Finished parsing file /Users/tanmaybakshi/Desktop/Development/MovieRecommendation/git_repo/ml-20m/ratings.csv"
      ]
     },
     "metadata": {},
     "output_type": "display_data"
    },
    {
     "data": {
      "text/html": [
       "<pre>Parsing completed. Parsed 20000263 lines in 4.16332 secs.</pre>"
      ],
      "text/plain": [
       "Parsing completed. Parsed 20000263 lines in 4.16332 secs."
      ]
     },
     "metadata": {},
     "output_type": "display_data"
    }
   ],
   "source": [
    "ratings = tc.SFrame.read_csv(\"ml-20m/ratings.csv\")"
   ]
  },
  {
   "cell_type": "markdown",
   "metadata": {},
   "source": [
    "The \"timestamp\" column of this file is not needed for this code pattern. It could be used to track how a user's interests change over time, but we won't leverage this data point for now. We'll remove that column from the SFrame:"
   ]
  },
  {
   "cell_type": "code",
   "execution_count": 35,
   "metadata": {},
   "outputs": [],
   "source": [
    "del ratings[\"timestamp\"]"
   ]
  },
  {
   "cell_type": "markdown",
   "metadata": {},
   "source": [
    "We'll then print out the ratings SFrame, to get an idea of what the table looks like:"
   ]
  },
  {
   "cell_type": "code",
   "execution_count": 36,
   "metadata": {},
   "outputs": [
    {
     "name": "stdout",
     "output_type": "stream",
     "text": [
      "+--------+---------+--------+\n",
      "| userId | movieId | rating |\n",
      "+--------+---------+--------+\n",
      "|   1    |    2    |  3.5   |\n",
      "|   1    |    29   |  3.5   |\n",
      "|   1    |    32   |  3.5   |\n",
      "|   1    |    47   |  3.5   |\n",
      "|   1    |    50   |  3.5   |\n",
      "|   1    |   112   |  3.5   |\n",
      "|   1    |   151   |  4.0   |\n",
      "|   1    |   223   |  4.0   |\n",
      "|   1    |   253   |  4.0   |\n",
      "|   1    |   260   |  4.0   |\n",
      "+--------+---------+--------+\n",
      "[20000263 rows x 3 columns]\n",
      "Note: Only the head of the SFrame is printed.\n",
      "You can use print_rows(num_rows=m, num_columns=n) to print more rows and columns.\n"
     ]
    }
   ],
   "source": [
    "print ratings"
   ]
  },
  {
   "cell_type": "markdown",
   "metadata": {},
   "source": [
    "Next, you'll train the model itself. There are a few different kinds of models, but we're going to use the \"item similarity recommender\" model. It's very useful for recommending items to new users when there are only a few previous occurence data points to feed into the model.\n",
    "\n",
    "We'll also have to tell the model that the \"user_id\" column, which is the identifier for the user, is called \"userId\"; the \"item_id\", which is the item that the user interacted with, is \"movieId\"; and the target, which is the score the user provided to the item, is \"rating\"."
   ]
  },
  {
   "cell_type": "code",
   "execution_count": 37,
   "metadata": {},
   "outputs": [
    {
     "data": {
      "text/html": [
       "<pre>Recsys training: model = item_similarity</pre>"
      ],
      "text/plain": [
       "Recsys training: model = item_similarity"
      ]
     },
     "metadata": {},
     "output_type": "display_data"
    },
    {
     "data": {
      "text/html": [
       "<pre>Preparing data set.</pre>"
      ],
      "text/plain": [
       "Preparing data set."
      ]
     },
     "metadata": {},
     "output_type": "display_data"
    },
    {
     "data": {
      "text/html": [
       "<pre>    Data has 20000263 observations with 138493 users and 26744 items.</pre>"
      ],
      "text/plain": [
       "    Data has 20000263 observations with 138493 users and 26744 items."
      ]
     },
     "metadata": {},
     "output_type": "display_data"
    },
    {
     "data": {
      "text/html": [
       "<pre>    Data prepared in: 6.95483s</pre>"
      ],
      "text/plain": [
       "    Data prepared in: 6.95483s"
      ]
     },
     "metadata": {},
     "output_type": "display_data"
    },
    {
     "data": {
      "text/html": [
       "<pre>Training model from provided data.</pre>"
      ],
      "text/plain": [
       "Training model from provided data."
      ]
     },
     "metadata": {},
     "output_type": "display_data"
    },
    {
     "data": {
      "text/html": [
       "<pre>Gathering per-item and per-user statistics.</pre>"
      ],
      "text/plain": [
       "Gathering per-item and per-user statistics."
      ]
     },
     "metadata": {},
     "output_type": "display_data"
    },
    {
     "data": {
      "text/html": [
       "<pre>+--------------------------------+------------+</pre>"
      ],
      "text/plain": [
       "+--------------------------------+------------+"
      ]
     },
     "metadata": {},
     "output_type": "display_data"
    },
    {
     "data": {
      "text/html": [
       "<pre>| Elapsed Time (Item Statistics) | % Complete |</pre>"
      ],
      "text/plain": [
       "| Elapsed Time (Item Statistics) | % Complete |"
      ]
     },
     "metadata": {},
     "output_type": "display_data"
    },
    {
     "data": {
      "text/html": [
       "<pre>+--------------------------------+------------+</pre>"
      ],
      "text/plain": [
       "+--------------------------------+------------+"
      ]
     },
     "metadata": {},
     "output_type": "display_data"
    },
    {
     "data": {
      "text/html": [
       "<pre>| 1.642ms                        | 0.5        |</pre>"
      ],
      "text/plain": [
       "| 1.642ms                        | 0.5        |"
      ]
     },
     "metadata": {},
     "output_type": "display_data"
    },
    {
     "data": {
      "text/html": [
       "<pre>| 301.111ms                      | 100        |</pre>"
      ],
      "text/plain": [
       "| 301.111ms                      | 100        |"
      ]
     },
     "metadata": {},
     "output_type": "display_data"
    },
    {
     "data": {
      "text/html": [
       "<pre>+--------------------------------+------------+</pre>"
      ],
      "text/plain": [
       "+--------------------------------+------------+"
      ]
     },
     "metadata": {},
     "output_type": "display_data"
    },
    {
     "data": {
      "text/html": [
       "<pre>Setting up lookup tables.</pre>"
      ],
      "text/plain": [
       "Setting up lookup tables."
      ]
     },
     "metadata": {},
     "output_type": "display_data"
    },
    {
     "data": {
      "text/html": [
       "<pre>Processing data in one pass using dense lookup tables.</pre>"
      ],
      "text/plain": [
       "Processing data in one pass using dense lookup tables."
      ]
     },
     "metadata": {},
     "output_type": "display_data"
    },
    {
     "data": {
      "text/html": [
       "<pre>+-------------------------------------+------------------+-----------------+</pre>"
      ],
      "text/plain": [
       "+-------------------------------------+------------------+-----------------+"
      ]
     },
     "metadata": {},
     "output_type": "display_data"
    },
    {
     "data": {
      "text/html": [
       "<pre>| Elapsed Time (Constructing Lookups) | Total % Complete | Items Processed |</pre>"
      ],
      "text/plain": [
       "| Elapsed Time (Constructing Lookups) | Total % Complete | Items Processed |"
      ]
     },
     "metadata": {},
     "output_type": "display_data"
    },
    {
     "data": {
      "text/html": [
       "<pre>+-------------------------------------+------------------+-----------------+</pre>"
      ],
      "text/plain": [
       "+-------------------------------------+------------------+-----------------+"
      ]
     },
     "metadata": {},
     "output_type": "display_data"
    },
    {
     "data": {
      "text/html": [
       "<pre>| 1.77s                               | 0                | 0               |</pre>"
      ],
      "text/plain": [
       "| 1.77s                               | 0                | 0               |"
      ]
     },
     "metadata": {},
     "output_type": "display_data"
    },
    {
     "data": {
      "text/html": [
       "<pre>| 4.79s                               | 11.25            | 3018            |</pre>"
      ],
      "text/plain": [
       "| 4.79s                               | 11.25            | 3018            |"
      ]
     },
     "metadata": {},
     "output_type": "display_data"
    },
    {
     "data": {
      "text/html": [
       "<pre>| 7.80s                               | 21.75            | 5843            |</pre>"
      ],
      "text/plain": [
       "| 7.80s                               | 21.75            | 5843            |"
      ]
     },
     "metadata": {},
     "output_type": "display_data"
    },
    {
     "data": {
      "text/html": [
       "<pre>| 10.82s                              | 32.25            | 8645            |</pre>"
      ],
      "text/plain": [
       "| 10.82s                              | 32.25            | 8645            |"
      ]
     },
     "metadata": {},
     "output_type": "display_data"
    },
    {
     "data": {
      "text/html": [
       "<pre>| 13.83s                              | 42.75            | 11491           |</pre>"
      ],
      "text/plain": [
       "| 13.83s                              | 42.75            | 11491           |"
      ]
     },
     "metadata": {},
     "output_type": "display_data"
    },
    {
     "data": {
      "text/html": [
       "<pre>| 16.85s                              | 54               | 14494           |</pre>"
      ],
      "text/plain": [
       "| 16.85s                              | 54               | 14494           |"
      ]
     },
     "metadata": {},
     "output_type": "display_data"
    },
    {
     "data": {
      "text/html": [
       "<pre>| 19.86s                              | 64.75            | 17363           |</pre>"
      ],
      "text/plain": [
       "| 19.86s                              | 64.75            | 17363           |"
      ]
     },
     "metadata": {},
     "output_type": "display_data"
    },
    {
     "data": {
      "text/html": [
       "<pre>| 22.87s                              | 75.5             | 20245           |</pre>"
      ],
      "text/plain": [
       "| 22.87s                              | 75.5             | 20245           |"
      ]
     },
     "metadata": {},
     "output_type": "display_data"
    },
    {
     "data": {
      "text/html": [
       "<pre>| 25.89s                              | 86.5             | 23164           |</pre>"
      ],
      "text/plain": [
       "| 25.89s                              | 86.5             | 23164           |"
      ]
     },
     "metadata": {},
     "output_type": "display_data"
    },
    {
     "data": {
      "text/html": [
       "<pre>| 28.90s                              | 97.5             | 26084           |</pre>"
      ],
      "text/plain": [
       "| 28.90s                              | 97.5             | 26084           |"
      ]
     },
     "metadata": {},
     "output_type": "display_data"
    },
    {
     "data": {
      "text/html": [
       "<pre>| 32.82s                              | 100              | 26744           |</pre>"
      ],
      "text/plain": [
       "| 32.82s                              | 100              | 26744           |"
      ]
     },
     "metadata": {},
     "output_type": "display_data"
    },
    {
     "data": {
      "text/html": [
       "<pre>+-------------------------------------+------------------+-----------------+</pre>"
      ],
      "text/plain": [
       "+-------------------------------------+------------------+-----------------+"
      ]
     },
     "metadata": {},
     "output_type": "display_data"
    },
    {
     "data": {
      "text/html": [
       "<pre>Finalizing lookup tables.</pre>"
      ],
      "text/plain": [
       "Finalizing lookup tables."
      ]
     },
     "metadata": {},
     "output_type": "display_data"
    },
    {
     "data": {
      "text/html": [
       "<pre>Generating candidate set for working with new users.</pre>"
      ],
      "text/plain": [
       "Generating candidate set for working with new users."
      ]
     },
     "metadata": {},
     "output_type": "display_data"
    },
    {
     "data": {
      "text/html": [
       "<pre>Finished training in 33.2346s</pre>"
      ],
      "text/plain": [
       "Finished training in 33.2346s"
      ]
     },
     "metadata": {},
     "output_type": "display_data"
    }
   ],
   "source": [
    "model = tc.item_similarity_recommender.create(ratings, user_id=\"userId\", item_id=\"movieId\", target=\"rating\")"
   ]
  },
  {
   "cell_type": "markdown",
   "metadata": {},
   "source": [
    "Finally, we'll save the model to the \"movie_rec\" folder - Turi Create models are not saved as files."
   ]
  },
  {
   "cell_type": "code",
   "execution_count": 39,
   "metadata": {},
   "outputs": [],
   "source": [
    "model.save(\"movie_rec\")"
   ]
  },
  {
   "cell_type": "code",
   "execution_count": null,
   "metadata": {},
   "outputs": [],
   "source": []
  }
 ],
 "metadata": {
  "kernelspec": {
   "display_name": "Python 2",
   "language": "python",
   "name": "python2"
  },
  "language_info": {
   "codemirror_mode": {
    "name": "ipython",
    "version": 2
   },
   "file_extension": ".py",
   "mimetype": "text/x-python",
   "name": "python",
   "nbconvert_exporter": "python",
   "pygments_lexer": "ipython2",
   "version": "2.7.10"
  }
 },
 "nbformat": 4,
 "nbformat_minor": 2
}
